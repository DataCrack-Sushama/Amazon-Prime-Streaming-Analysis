{
  "nbformat": 4,
  "nbformat_minor": 0,
  "metadata": {
    "colab": {
      "private_outputs": true,
      "provenance": [],
      "collapsed_sections": [
        "mDgbUHAGgjLW",
        "gCFgpxoyphqP",
        "OVtJsKN_phqQ",
        "lssrdh5qphqQ"
      ],
      "cell_execution_strategy": "setup",
      "include_colab_link": true
    },
    "kernelspec": {
      "name": "python3",
      "display_name": "Python 3"
    },
    "language_info": {
      "name": "python"
    }
  },
  "cells": [
    {
      "cell_type": "markdown",
      "metadata": {
        "id": "view-in-github",
        "colab_type": "text"
      },
      "source": [
        "<a href=\"https://colab.research.google.com/github/DataCrack-Sushama/Amazon-Prime-Streaming-Analysis/blob/main/Amazon_prime_streaming_EDA.ipynb\" target=\"_parent\"><img src=\"https://colab.research.google.com/assets/colab-badge.svg\" alt=\"Open In Colab\"/></a>"
      ]
    },
    {
      "cell_type": "markdown",
      "source": [
        "[link text](https:// [link text](https://))# **Project Name**    -\n",
        "Amazon Prime Streaming Analysis\n"
      ],
      "metadata": {
        "id": "vncDsAP0Gaoa"
      }
    },
    {
      "cell_type": "markdown",
      "source": [
        "##### **Project Type**    - EDA/Regression/Classification/Unsupervised\n",
        "##### **Contribution**    - Individual\n"
      ],
      "metadata": {
        "id": "beRrZCGUAJYm"
      }
    },
    {
      "cell_type": "markdown",
      "source": [
        "# **Project Summary -**"
      ],
      "metadata": {
        "id": "FJNUwmbgGyua"
      }
    },
    {
      "cell_type": "markdown",
      "source": [
        "Conducted an exploratory data analysis of Amazon Prime Video's streaming catalog in the United States to derive insights into content diversity, regional availability, evolving trends, and IMDb ratings. Analyzed two CSV datasets using Python libraries like Pandas, NumPy, Matplotlib, and Seaborn. Extracted valuable insights on genre dominance, regional content distribution, content evolution over time, and the popularity of top-rated shows. The analysis provided data-driven recommendations for enhancing content strategy, boosting user engagement, and optimizing subscription growth in the competitive streaming industry."
      ],
      "metadata": {
        "id": "F6v_1wHtG2nS"
      }
    },
    {
      "cell_type": "markdown",
      "source": [
        "# **GitHub Link -**"
      ],
      "metadata": {
        "id": "w6K7xa23Elo4"
      }
    },
    {
      "cell_type": "markdown",
      "source": [
        "https://github.com/DataCrack-Sushama/Amazon-Prime-Streaming-Analysis\n",
        "\n",
        "\n"
      ],
      "metadata": {
        "id": "h1o69JH3Eqqn"
      }
    },
    {
      "cell_type": "markdown",
      "source": [
        "# **Problem Statement**\n"
      ],
      "metadata": {
        "id": "yQaldy8SH6Dl"
      }
    },
    {
      "cell_type": "markdown",
      "source": [
        "This dataset was created to analyze all shows available on Amazon Prime Video, allowing us to extract valuable insights such as:\n",
        "\n",
        "*  Content Diversity : What genres and categories dominate the platform?\n",
        "*  Regional Availability : How content Distribution varies across different regions?\n",
        "*  Trends over time : How has Amazon Prime's content library evolved?\n",
        "*  IMDb Ratings & Popularity : What are the highest-rated or most popular shows on the platform?\n",
        "\n",
        "By analyzing this dataset, business, content creators, and data analysts can cover key trends that influence subscription growth, user engagement and content investment strategies in the streaming industry.\n",
        "\n",
        "\n",
        "\n"
      ],
      "metadata": {
        "id": "DpeJGUA3kjGy"
      }
    },
    {
      "cell_type": "markdown",
      "source": [
        "#### **Define Your Business Objective?**"
      ],
      "metadata": {
        "id": "PH-0ReGfmX4f"
      }
    },
    {
      "cell_type": "markdown",
      "source": [
        "The primary objective of this project is to leverage data analytics and machine learning to enhance content strategy and improve user engagement on Amazon Prime Video in the United States. By analyzing streaming data, genre trends, regional preferences, and IMDb ratings, this project aims to:\n",
        "\n",
        "Optimize Content Acquisition: Identify high-performing genres and categories to guide future content investments.\n",
        "\n",
        "Enhance User Retention: Develop personalized content recommendations that increase viewer engagement and reduce churn.\n",
        "\n",
        "Boost Revenue Growth: Support data-driven decisions for marketing strategies by understanding popular trends and viewer demographics.\n",
        "\n",
        "Improve Platform Experience: Provide insights for content creators and producers to align with audience preferences, boosting satisfaction and platform loyalty.\n",
        "\n",
        "Drive Strategic Planning: Enable Amazon Prime Video to forecast future content trends, optimize regional content strategies, and enhance subscription growth.\n",
        "\n"
      ],
      "metadata": {
        "id": "PhDvGCAqmjP1"
      }
    },
    {
      "cell_type": "markdown",
      "source": [
        "# **General Guidelines** : -  "
      ],
      "metadata": {
        "id": "mDgbUHAGgjLW"
      }
    },
    {
      "cell_type": "markdown",
      "source": [
        "1.   Well-structured, formatted, and commented code is required.\n",
        "2.   Exception Handling, Production Grade Code & Deployment Ready Code will be a plus. Those students will be awarded some additional credits.\n",
        "     \n",
        "     The additional credits will have advantages over other students during Star Student selection.\n",
        "       \n",
        "             [ Note: - Deployment Ready Code is defined as, the whole .ipynb notebook should be executable in one go\n",
        "                       without a single error logged. ]\n",
        "\n",
        "3.   Each and every logic should have proper comments.\n",
        "4. You may add as many number of charts you want. Make Sure for each and every chart the following format should be answered.\n",
        "        \n",
        "\n",
        "```\n",
        "# Chart visualization code\n",
        "```\n",
        "            \n",
        "\n",
        "*   Why did you pick the specific chart?\n",
        "*   What is/are the insight(s) found from the chart?\n",
        "* Will the gained insights help creating a positive business impact?\n",
        "Are there any insights that lead to negative growth? Justify with specific reason.\n",
        "\n",
        "5. You have to create at least 20 logical & meaningful charts having important insights.\n",
        "\n",
        "\n",
        "[ Hints : - Do the Vizualization in  a structured way while following \"UBM\" Rule.\n",
        "\n",
        "U - Univariate Analysis,\n",
        "\n",
        "B - Bivariate Analysis (Numerical - Categorical, Numerical - Numerical, Categorical - Categorical)\n",
        "\n",
        "M - Multivariate Analysis\n",
        " ]\n",
        "\n",
        "\n",
        "\n"
      ],
      "metadata": {
        "id": "ZrxVaUj-hHfC"
      }
    },
    {
      "cell_type": "markdown",
      "source": [
        "# ***Let's Begin !***"
      ],
      "metadata": {
        "id": "O_i_v8NEhb9l"
      }
    },
    {
      "cell_type": "markdown",
      "source": [
        "## ***1. Know Your Data***"
      ],
      "metadata": {
        "id": "HhfV-JJviCcP"
      }
    },
    {
      "cell_type": "markdown",
      "source": [
        "### Import Libraries"
      ],
      "metadata": {
        "id": "Y3lxredqlCYt"
      }
    },
    {
      "cell_type": "code",
      "source": [
        "# Import Libraries\n",
        "import pandas as pd\n",
        "import numpy as np\n",
        "import matplotlib.pyplot as plt\n",
        "import seaborn as sns"
      ],
      "metadata": {
        "id": "M8Vqi-pPk-HR"
      },
      "execution_count": null,
      "outputs": []
    },
    {
      "cell_type": "markdown",
      "source": [
        "### Dataset Loading"
      ],
      "metadata": {
        "id": "3RnN4peoiCZX"
      }
    },
    {
      "cell_type": "code",
      "source": [
        "from zipfile import ZipFile\n",
        "\n",
        "# loading the temp.zip and creating a zip object\n",
        "with ZipFile(\"/content/credits.csv.zip\", 'r') as zObject:\n",
        "\n",
        "    # Extracting specific file in the zip\n",
        "    # into a specific location.\n",
        "    zObject.extract(\n",
        "        \"credits.csv\", path=\"/content/sample_data/extracted_files\")\n",
        "with ZipFile(\"/content/titles.csv.zip\", 'r') as zObject:\n",
        "\n",
        "    # Extracting specific file in the zip\n",
        "    # into a specific location.\n",
        "    zObject.extract(\n",
        "        \"titles.csv\", path=\"/content/sample_data/extracted_files\")\n",
        "\n",
        "# Load Dataset\n",
        "import pandas as pd\n",
        "data1 = pd.read_csv('/content/sample_data/extracted_files/credits.csv')\n",
        "data2 = pd.read_csv('/content/sample_data/extracted_files/titles.csv')\n",
        "\n",
        "df = pd.merge(data1,data2, on='id')"
      ],
      "metadata": {
        "id": "4CkvbW_SlZ_R"
      },
      "execution_count": null,
      "outputs": []
    },
    {
      "cell_type": "markdown",
      "source": [
        "### Dataset First View"
      ],
      "metadata": {
        "id": "x71ZqKXriCWQ"
      }
    },
    {
      "cell_type": "code",
      "source": [
        "# Dataset First Look\n",
        "df.head()"
      ],
      "metadata": {
        "id": "LWNFOSvLl09H"
      },
      "execution_count": null,
      "outputs": []
    },
    {
      "cell_type": "markdown",
      "source": [
        "### Dataset Rows & Columns count"
      ],
      "metadata": {
        "id": "7hBIi_osiCS2"
      }
    },
    {
      "cell_type": "code",
      "source": [
        "# Dataset Rows & Columns count\n",
        "print(f\"number of rows: {df.shape[0]}\")\n",
        "print(f\"number of columns: {df.shape[1]}\")"
      ],
      "metadata": {
        "id": "Kllu7SJgmLij"
      },
      "execution_count": null,
      "outputs": []
    },
    {
      "cell_type": "markdown",
      "source": [
        "### Dataset Information"
      ],
      "metadata": {
        "id": "JlHwYmJAmNHm"
      }
    },
    {
      "cell_type": "code",
      "source": [
        "# Dataset Info\n",
        "print(f\"dataset info : {df.info()}\")"
      ],
      "metadata": {
        "id": "e9hRXRi6meOf"
      },
      "execution_count": null,
      "outputs": []
    },
    {
      "cell_type": "markdown",
      "source": [
        "#### Duplicate Values"
      ],
      "metadata": {
        "id": "35m5QtbWiB9F"
      }
    },
    {
      "cell_type": "code",
      "source": [
        "# Dataset Duplicate Value Count\n",
        "print(f\"number of duplicate values: {df.duplicated().sum()}\")"
      ],
      "metadata": {
        "id": "1sLdpKYkmox0"
      },
      "execution_count": null,
      "outputs": []
    },
    {
      "cell_type": "markdown",
      "source": [
        "#### Missing Values/Null Values"
      ],
      "metadata": {
        "id": "PoPl-ycgm1ru"
      }
    },
    {
      "cell_type": "code",
      "source": [
        "# Missing Values/Null Values Count\n",
        "print(f\"number of missing values: {df.isnull().sum()}\")"
      ],
      "metadata": {
        "id": "GgHWkxvamxVg"
      },
      "execution_count": null,
      "outputs": []
    },
    {
      "cell_type": "code",
      "source": [
        "# Visualizing the missing values\n",
        "plt.figure(figsize = (20,10))\n",
        "\n",
        "sns.heatmap(df.isnull(),cmap = 'viridis',cbar = False,yticklabels = False)\n",
        "plt.title('missing values')\n",
        "plt.xlabel('Columns')\n",
        "plt.ylabel('Rows')\n",
        "plt.show()"
      ],
      "metadata": {
        "id": "3q5wnI3om9sJ"
      },
      "execution_count": null,
      "outputs": []
    },
    {
      "cell_type": "markdown",
      "source": [
        "### What did you know about your dataset?"
      ],
      "metadata": {
        "id": "H0kj-8xxnORC"
      }
    },
    {
      "cell_type": "markdown",
      "source": [
        "there's a high missing values for the columns below:\n",
        "character : 16307, which has large datasets of movies/tv shows.\n",
        "seasons :116194, we can filter this based on type ='movies' as movies doesn't have seasons.\n",
        "age_certification : 67640, lack of age rating for many entries possibly old content or less popular.\n",
        "imdb_id : 5303, this can effect linked external data IMDb\n",
        "imdb_score : 6051,imdb_votes : 6075 lack of IMBd data for certain titles.\n",
        "tmdb_score (10,265 missing): Similar issue as IMDb data.\n",
        "and less missing values for the columns like description and tmdb_score."
      ],
      "metadata": {
        "id": "gfoNAAC-nUe_"
      }
    },
    {
      "cell_type": "markdown",
      "source": [
        "## ***2. Understanding Your Variables***"
      ],
      "metadata": {
        "id": "nA9Y7ga8ng1Z"
      }
    },
    {
      "cell_type": "code",
      "source": [
        "# Dataset Columns\n",
        "print(df.columns)"
      ],
      "metadata": {
        "id": "j7xfkqrt5Ag5"
      },
      "execution_count": null,
      "outputs": []
    },
    {
      "cell_type": "code",
      "source": [
        "# Dataset Describe\n",
        "print(f\"numberical columns: {df.describe()}\")\n",
        "print(f\"categorical columns: {df.describe(include='object')}\")"
      ],
      "metadata": {
        "id": "DnOaZdaE5Q5t"
      },
      "execution_count": null,
      "outputs": []
    },
    {
      "cell_type": "markdown",
      "source": [
        "### Variables Description"
      ],
      "metadata": {
        "id": "PBTbrJXOngz2"
      }
    },
    {
      "cell_type": "code",
      "source": [
        "variables_description= pd.DataFrame({\n",
        "    'Column' : df.columns,\n",
        "    'Data Type' : df.dtypes.values,\n",
        "    'Non-Null Count': df.notnull().sum().values,\n",
        "    'Missing values': df.isnull().sum().values,\n",
        "    'unique values': df.nunique().values,\n",
        "    'Sample values': [df[col].unique()[:5] for col in df.columns]} #display 1st five unique values in a column\n",
        "    )\n",
        "\n",
        "print(variables_description)"
      ],
      "metadata": {
        "id": "pCtKAq8L75Oy"
      },
      "execution_count": null,
      "outputs": []
    },
    {
      "cell_type": "markdown",
      "source": [
        "to be able to understand structure of the data, to spot the columns that has missing values or unexpected data types and to plan the exploratory data analysis and pre-processing steps."
      ],
      "metadata": {
        "id": "aJV4KIxSnxay"
      }
    },
    {
      "cell_type": "markdown",
      "source": [
        "### Check Unique Values for each variable."
      ],
      "metadata": {
        "id": "u3PMJOP6ngxN"
      }
    },
    {
      "cell_type": "code",
      "source": [
        "# Check Unique Values for each variable.\n",
        "unique_values = {col: df[col].unique() for col in df.columns}\n",
        "\n",
        "for column, values in unique_values.items():\n",
        "  print(f\"Column: {column}\")\n",
        "  print(f\"unique values: {values[:10]}\")\n",
        "  print(f\"total unique values : {len(values)}/n\")"
      ],
      "metadata": {
        "id": "zms12Yq5n-jE"
      },
      "execution_count": null,
      "outputs": []
    },
    {
      "cell_type": "markdown",
      "source": [
        "## 3. ***Data Wrangling***"
      ],
      "metadata": {
        "id": "dauF4eBmngu3"
      }
    },
    {
      "cell_type": "markdown",
      "source": [
        "### Data Wrangling Code"
      ],
      "metadata": {
        "id": "bKJF3rekwFvQ"
      }
    },
    {
      "cell_type": "code",
      "source": [
        "# Write your code to make your dataset analysis ready.\n",
        "\n",
        "print(\"dataset info\")\n",
        "print(df.info())\n",
        "print(\"\\n Missing values before handling:\", df.isnull().sum())\n",
        "\n",
        "# Handling Missing Values\n",
        "numeric_cols = ['imdb_score', 'imdb_votes', 'tmdb_score', 'tmdb_popularity']\n",
        "for col in numeric_cols:\n",
        "    df[col] = pd.to_numeric(df[col], errors='coerce')\n",
        "\n",
        "for col in numeric_cols:\n",
        "    df[col] = df[col].fillna(df[col].median())\n",
        "\n",
        "# Drop rows with missing 'id' or 'title' (essential columns)\n",
        "df = df.dropna(subset=['id', 'title'])\n",
        "\n",
        "#Fill missing 'character' with 'Unknown'\n",
        "df['character'] = df['character'].fillna('Unknown')\n",
        "\n",
        "## Fill missing 'description' with an empty string\n",
        "df['description'] = df['description'].astype(object)\n",
        "df['description'].fillna('',inplace = True)\n",
        "\n",
        "## Fill missing 'age_certification' with 'Not Rated'\n",
        "df.get('age_certification', pd.Series(dtype='object')).fillna('Not Rated', inplace=True)\n",
        "\n",
        "# Ensure 'tmdb_score' and 'tmdb_popularity' are numeric\n",
        "df['tmdb_score'] = pd.to_numeric(df['tmdb_score'], errors='coerce')\n",
        "df['tmdb_popularity'] = pd.to_numeric(df['tmdb_popularity'], errors='coerce')\n",
        "\n",
        "# Handling missing values\n",
        "df['seasons'] = df['seasons'].fillna(1)  # Assuming missing means 1 season\n",
        "df['imdb_score'] = df['imdb_score'].fillna(df['imdb_score'].median())\n",
        "df['imdb_votes'] = df['imdb_votes'].fillna(df['imdb_votes'].median())\n",
        "df['tmdb_score'] = df['tmdb_score'].fillna(df['tmdb_score'].median())\n",
        "df['tmdb_popularity'] = df['tmdb_popularity'].fillna(df['tmdb_popularity'].median())\n",
        "\n",
        "## Fill missing IMDb votes with the median value\n",
        "df['imdb_votes'].fillna(df['imdb_votes'].median(),inplace = True)\n",
        "\n",
        "# Fill missing tMDb popularity and score with the median value\n",
        "df['tmdb_score'].fillna(df['tmdb_score'].median(),inplace = True)\n",
        "df['tmdb_popularity'].fillna(df['tmdb_popularity'].median(),inplace = True)\n",
        "\n",
        "# data type conversion\n",
        "#Convert 'release_year' to datetime format\n",
        "\n",
        "df['release_year'] = pd.to_datetime(df['release_year'], format = '%Y',errors = 'coerce') # removed extra quote\n",
        "\n",
        "# Convert categorical columns to 'category' data type for optimization\n",
        "categorical_columns = ['type','description','age_certification','genres','production_countries','role','name']\n",
        "for col in categorical_columns:\n",
        "  df[col] = df[col].astype('category')\n",
        "\n",
        "# Handling Duplicates\n",
        "# Drop duplicate rows if any\n",
        "df.drop_duplicates(inplace=True)\n",
        "\n",
        "# 4Feature Engineering\n",
        "# Create a new column for content age (years since release)\n",
        "df['content_age'] = pd.Timestamp.now().year - df['release_year'].dt.year\n",
        "\n",
        "# Create a new column indicating whether the content is a 'Movie' or 'TV Show'\n",
        "df['is_movie'] = df['type'].apply(lambda x: 1 if x.lower() == 'movie' else 0)\n",
        "\n",
        "# Outlier Handling\n",
        "# Clip IMDb scores to a valid range (0-10)\n",
        "df['imdb_score'] = df['imdb_score'].clip(0, 10)\n",
        "\n",
        "# Clip runtime to avoid extreme values\n",
        "df['runtime'] = df['runtime'].clip(lower=0, upper=df['runtime'].quantile(0.95))\n",
        "\n",
        "# 6. Renaming Columns (if needed)\n",
        "#df.rename(columns={'imdb_score': 'IMDB_Score', 'tmdb_score': 'TMDB_Score'}, inplace=True)\n",
        "\n",
        "# 7. Final Check for Missing Values\n",
        "print(\"\\nMissing Values After Handling:\\n\", df.isnull().sum())\n",
        "\n",
        "# 8. Save the Cleaned Data (Optional)\n",
        "df.to_csv('cleaned_dataset.csv', index=False)\n",
        "\n",
        "print(\"\\nData Wrangling Completed! Dataset is now analysis-ready.\")\n",
        "\n"
      ],
      "metadata": {
        "id": "wk-9a2fpoLcV"
      },
      "execution_count": null,
      "outputs": []
    },
    {
      "cell_type": "markdown",
      "source": [
        "### What all manipulations have you done and insights you found?"
      ],
      "metadata": {
        "id": "MSa1f5Uengrz"
      }
    },
    {
      "cell_type": "code",
      "source": [],
      "metadata": {
        "id": "ExnxYd-7I_bt"
      },
      "execution_count": null,
      "outputs": []
    },
    {
      "cell_type": "markdown",
      "source": [
        "Data Manipulations Performed:\n",
        "--------------\n",
        "Checked for Missing Values\n",
        "--------------------\n",
        "\n",
        "Verified that no missing values were present before handling.\n",
        "\n",
        "Handled Potential Missing Values\n",
        "----------------\n",
        "description: Filled missing values with an empty string ('').\n",
        "age_certification: Filled missing values with 'Not Rated'.\n",
        "imdb_votes: Replaced missing values with the median.\n",
        "tmdb_score: Replaced missing values with the median.\n",
        "tmdb_popularity: Replaced missing values with the median.\n",
        "\n",
        "Ensured Data Consistency\n",
        "------------------\n",
        "Verified column names to prevent KeyError (e.g., case-sensitive issues with 'age_certification').\n",
        "Optimized Memory Usage\n",
        "-------------\n",
        "The dataset has 124,179 rows and 21 columns, with multiple categorical columns to reduce memory usage.\n",
        "\n",
        "Insights Derived:\n",
        "--------------------\n",
        "Data Completeness:\n",
        "----------\n",
        "No missing values remain, ensuring the dataset is clean for analysis.\n",
        "Data Distribution:\n",
        "---------\n",
        "imdb_score & tmdb_score: Evaluating central tendency and spread could help identify highly-rated or low-rated titles.\n",
        "genres & production_countries: Categorized, allowing for genre-based or country-based analysis.\n",
        "content_age: Can be used for age-based content recommendations.\n",
        "Potential Analysis Areas:\n",
        "----------\n",
        "Movie vs. TV Show Analysis: Using is_movie to compare trends.\n",
        "Popularity Trends: Exploring tmdb_popularity over time.\n",
        "Impact of Runtime on Ratings: Checking if longer movies receive better ratings."
      ],
      "metadata": {
        "id": "LbyXE7I1olp8"
      }
    },
    {
      "cell_type": "markdown",
      "source": [
        "## ***4. Data Vizualization, Storytelling & Experimenting with charts : Understand the relationships between variables***"
      ],
      "metadata": {
        "id": "GF8Ens_Soomf"
      }
    },
    {
      "cell_type": "markdown",
      "source": [
        "#### Chart - 1"
      ],
      "metadata": {
        "id": "0wOQAZs5pc--"
      }
    },
    {
      "cell_type": "code",
      "source": [
        "# IMDb Score Distribution\n",
        "plt.figure(figsize=(8, 5))\n",
        "sns.histplot(df['imdb_score'], bins=20, kde=True, color='skyblue')\n",
        "plt.title('Distribution of IMDb Scores')\n",
        "plt.xlabel('IMDb Score')\n",
        "plt.ylabel('Frequency')\n",
        "plt.show()\n"
      ],
      "metadata": {
        "id": "7v_ESjsspbW7"
      },
      "execution_count": null,
      "outputs": []
    },
    {
      "cell_type": "markdown",
      "source": [
        "##### 1. Why did you pick the specific chart?"
      ],
      "metadata": {
        "id": "K5QZ13OEpz2H"
      }
    },
    {
      "cell_type": "markdown",
      "source": [
        "A histogram is ideal for visualizing the distribution of IMDb scores across movies.\n",
        "It helps in understanding the central tendency, spread, and skewness of the ratings. The addition of a KDE curve smooths the distribution, making patterns easier to interpret."
      ],
      "metadata": {
        "id": "XESiWehPqBRc"
      }
    },
    {
      "cell_type": "markdown",
      "source": [
        "##### 2. What is/are the insight(s) found from the chart?"
      ],
      "metadata": {
        "id": "lQ7QKXXCp7Bj"
      }
    },
    {
      "cell_type": "markdown",
      "source": [
        "\n",
        "\n",
        "*  IMDb scores follow a normal distribution, with most movies scoring between 5 and 7.\n",
        "*  The peak occurs around 6, meaning the majority of movies receive moderate ratings rather than extremely high or low scores.\n",
        "*  Very few movies receive scores below 3 or above 9, indicating that extreme ratings are rare.\n",
        "\n",
        "\n",
        "\n",
        "\n",
        "\n",
        "\n"
      ],
      "metadata": {
        "id": "C_j1G7yiqdRP"
      }
    },
    {
      "cell_type": "markdown",
      "source": [
        "##### 3. Will the gained insights help creating a positive business impact?\n",
        "Are there any insights that lead to negative growth? Justify with specific reason."
      ],
      "metadata": {
        "id": "448CDAPjqfQr"
      }
    },
    {
      "cell_type": "markdown",
      "source": [
        "Yes, streaming platforms and movie producers can benchmark their content based on typical IMDb scores.\n",
        "* Content recommendation algorithms can use this insight to promote movies with average or higher ratings to maximize user engagement.\n",
        "* Production houses can aim to optimize storytelling and marketing to move their movies into the higher-rating range.\n",
        "\n",
        "\n",
        "Since most movies cluster around average scores, it might be difficult to differentiate between them, leading to content saturation in the mid-range.\n",
        "\n",
        "A lack of highly rated movies (8-10 range) suggests that either audience expectations are very high or few movies manage to achieve outstanding quality.\n",
        "\n",
        "Solution: Production teams should analyze factors contributing to top-rated movies and incorporate those elements (e.g., screenplay, direction, casting) to improve future releases.\n",
        "\n",
        "\n"
      ],
      "metadata": {
        "id": "3cspy4FjqxJW"
      }
    },
    {
      "cell_type": "markdown",
      "source": [
        "#### Chart - 2"
      ],
      "metadata": {
        "id": "KSlN3yHqYklG"
      }
    },
    {
      "cell_type": "code",
      "source": [
        "#  IMDb vs. TMDB Score\n",
        "plt.figure(figsize=(8, 5))\n",
        "sns.scatterplot(x=df['imdb_score'], y=df['tmdb_score'], alpha=0.5, color='red')\n",
        "plt.title('IMDb Score vs. TMDB Score')\n",
        "plt.xlabel('IMDb Score')\n",
        "plt.ylabel('TMDB Score')\n",
        "plt.show()"
      ],
      "metadata": {
        "id": "R4YgtaqtYklH"
      },
      "execution_count": null,
      "outputs": []
    },
    {
      "cell_type": "markdown",
      "source": [
        "##### 1. Why did you pick the specific chart?"
      ],
      "metadata": {
        "id": "t6dVpIINYklI"
      }
    },
    {
      "cell_type": "markdown",
      "source": [
        "A scatter plot is the best choice for visualizing relationships between two numerical variables (IMDb and TMDB scores).\n",
        "It helps in identifying correlation, trends, and outliers in the dataset.\n",
        "The plot efficiently highlights how closely the two rating systems align for different movies."
      ],
      "metadata": {
        "id": "5aaW0BYyYklI"
      }
    },
    {
      "cell_type": "markdown",
      "source": [
        "##### 2. What is/are the insight(s) found from the chart?"
      ],
      "metadata": {
        "id": "ijmpgYnKYklI"
      }
    },
    {
      "cell_type": "markdown",
      "source": [
        "\n",
        "\n",
        "*  There is a positive correlation between IMDb and TMDB scores, meaning higher IMDb ratings tend to align with higher TMDB ratings.\n",
        "*  However, the spread is wide, indicating that some movies are rated significantly differently on both platforms.\n",
        "\n",
        "* Many movies cluster around the 6-8 rating range, suggesting most films receive moderate ratings rather than extreme scores.\n",
        "* Some outliers exist, where a movie is highly rated on one platform but poorly rated on the other.\n",
        "\n",
        "\n",
        "\n",
        "\n",
        "\n"
      ],
      "metadata": {
        "id": "PSx9atu2YklI"
      }
    },
    {
      "cell_type": "markdown",
      "source": [
        "##### 3. Will the gained insights help creating a positive business impact?\n",
        "Are there any insights that lead to negative growth? Justify with specific reason."
      ],
      "metadata": {
        "id": "-JiQyfWJYklI"
      }
    },
    {
      "cell_type": "markdown",
      "source": [
        "Yes, streaming services can prioritize content that has high ratings on both platforms to ensure audience satisfaction.\n",
        "\n",
        "* Distributors can analyze rating discrepancies to understand viewer expectations across different platforms.\n",
        "* Filmmakers can benchmark their movie ratings against similar content to improve future productions.\n",
        "\n",
        "\n",
        "The presence of rating inconsistencies could lead to audience confusion, affecting trust in reviews.\n",
        "\n",
        "Outliers indicate possible bias or differences in rating criteria, which might make it hard for businesses to rely on a single platform’s scores for decision-making.\n",
        "\n",
        "Solution: Businesses should consider multiple rating sources and not rely solely on IMDb or TMDB when evaluating content success.\n",
        "\n",
        "\n"
      ],
      "metadata": {
        "id": "BcBbebzrYklV"
      }
    },
    {
      "cell_type": "markdown",
      "source": [
        "#### Chart - 3"
      ],
      "metadata": {
        "id": "EM7whBJCYoAo"
      }
    },
    {
      "cell_type": "code",
      "source": [
        "#  Top Genres Count\n",
        "plt.figure(figsize=(10, 5))\n",
        "sns.countplot(y=df['genres'], order=df['genres'].value_counts().index[:10], palette='viridis')\n",
        "plt.title('Top 10 Most Common Genres')\n",
        "plt.xlabel('Count')\n",
        "plt.ylabel('Genre')\n",
        "plt.show()"
      ],
      "metadata": {
        "id": "t6GMdE67YoAp"
      },
      "execution_count": null,
      "outputs": []
    },
    {
      "cell_type": "markdown",
      "source": [
        "##### 1. Why did you pick the specific chart?"
      ],
      "metadata": {
        "id": "fge-S5ZAYoAp"
      }
    },
    {
      "cell_type": "markdown",
      "source": [
        "A horizontal bar chart is ideal for categorical data with long labels (like genres), ensuring better readability.\n",
        "It clearly shows the ranking of genres based on frequency, making comparisons easy and it  helps quickly identify dominant genres in the dataset.\n"
      ],
      "metadata": {
        "id": "5dBItgRVYoAp"
      }
    },
    {
      "cell_type": "markdown",
      "source": [
        "##### 2. What is/are the insight(s) found from the chart?"
      ],
      "metadata": {
        "id": "85gYPyotYoAp"
      }
    },
    {
      "cell_type": "markdown",
      "source": [
        "Drama is the most common genre, significantly ahead of other genres.\n",
        "Comedy follows next, but with a considerable gap from Drama.\n",
        "* Mixed genres (e.g., Drama-Romance, Comedy-Drama, Romance-Comedy) are quite frequent, indicating that audiences enjoy hybrid storytelling.\n",
        "*  Horror and Thriller appear in the top 10, suggesting a steady demand for suspenseful and fear-driven content.\n",
        "* Documentation has a notable presence, highlighting growing interest in factual and reality-based storytelling.\n",
        "\n",
        "\n",
        "\n"
      ],
      "metadata": {
        "id": "4jstXR6OYoAp"
      }
    },
    {
      "cell_type": "markdown",
      "source": [
        "##### 3. Will the gained insights help creating a positive business impact?\n",
        "Are there any insights that lead to negative growth? Justify with specific reason."
      ],
      "metadata": {
        "id": "RoGjAbkUYoAp"
      }
    },
    {
      "cell_type": "markdown",
      "source": [
        "Yes, streaming platforms can prioritize acquiring or producing more Drama and Comedy content, as they dominate in popularity.\n",
        "* Content creators can focus on producing films in these genres to increase viewership and engagement.\n",
        "* Marketing teams can design genre-specific promotional campaigns targeting Drama and Comedy fans, boosting subscription rates.\n",
        "\n",
        "\n",
        "\n",
        "The dominance of Drama and Comedy might indicate oversaturation, making it harder for new content to stand out.\n",
        "\n",
        "Less representation of other genres (e.g., Sci-Fi, Fantasy, Adventure) might mean missed opportunities in underexplored categories.\n",
        "\n",
        "Solution: Platforms should diversify their content portfolio by investing in underrepresented genres to attract niche audiences and reduce market saturation risks.\n",
        "\n",
        "\n",
        "\n"
      ],
      "metadata": {
        "id": "zfJ8IqMcYoAp"
      }
    },
    {
      "cell_type": "markdown",
      "source": [
        "#### Chart - 4"
      ],
      "metadata": {
        "id": "4Of9eVA-YrdM"
      }
    },
    {
      "cell_type": "code",
      "source": [
        "#  Runtime Distribution\n",
        "plt.figure(figsize=(8, 5))\n",
        "sns.histplot(df['runtime'], bins=30, kde=True, color='green')\n",
        "plt.title('Distribution of Movie Runtimes')\n",
        "plt.xlabel('Runtime (minutes)')\n",
        "plt.ylabel('Frequency')\n",
        "plt.show()"
      ],
      "metadata": {
        "id": "irlUoxc8YrdO"
      },
      "execution_count": null,
      "outputs": []
    },
    {
      "cell_type": "markdown",
      "source": [
        "##### 1. Why did you pick the specific chart?"
      ],
      "metadata": {
        "id": "iky9q4vBYrdO"
      }
    },
    {
      "cell_type": "markdown",
      "source": [
        "histogram with KDE is ideal for showing the distribution of numerical data, making it perfect for visualizing movie runtimes.\n",
        "*  It allows for easy identification of common runtime lengths, skewness, and trends in movie durations.\n",
        "*  The smooth KDE curve helps highlight underlying patterns beyond raw frequency counts.\n",
        "\n",
        "\n",
        "\n",
        "\n",
        "\n"
      ],
      "metadata": {
        "id": "aJRCwT6DYrdO"
      }
    },
    {
      "cell_type": "markdown",
      "source": [
        "##### 2. What is/are the insight(s) found from the chart?"
      ],
      "metadata": {
        "id": "F6T5p64dYrdO"
      }
    },
    {
      "cell_type": "markdown",
      "source": [
        "\n",
        "*  Most movies have a runtime between 80 to 100 minutes, indicating this is the optimal duration preferred by filmmakers and audiences.\n",
        "*  A secondary peak is observed at around 140 minutes, which could indicate longer feature films or special genres.\n",
        "*  Few movies are extremely short (under 40 minutes) or very long (over 140 minutes).\n"
      ],
      "metadata": {
        "id": "Xx8WAJvtYrdO"
      }
    },
    {
      "cell_type": "markdown",
      "source": [
        "##### 3. Will the gained insights help creating a positive business impact?\n",
        "Are there any insights that lead to negative growth? Justify with specific reason."
      ],
      "metadata": {
        "id": "y-Ehk30pYrdP"
      }
    },
    {
      "cell_type": "markdown",
      "source": [
        "Yes, Content creators can optimize movie runtimes to align with audience expectations, ensuring higher engagement.\n",
        "*  Streaming platforms can improve recommendations by filtering content based on user preference for runtime.\n",
        "*  Advertisers can strategically place ads in movies of popular durations to maximize revenue.\n",
        "\n",
        "movies significantly deviating from the optimal runtime (80-100 minutes) may struggle with audience retention.\n",
        "\n",
        "\n",
        "* Short movies (<40 min): Might be perceived as incomplete or lacking depth, leading to lower viewer satisfaction.\n",
        "* Long movies (>140 min): Risk higher dropout rates due to audience fatigue, potentially reducing engagement.\n",
        "\n",
        "Solution: Filmmakers should balance storytelling efficiency with runtime expectations to maximize viewer retention and business success.\n",
        "\n",
        "\n"
      ],
      "metadata": {
        "id": "jLNxxz7MYrdP"
      }
    },
    {
      "cell_type": "markdown",
      "source": [
        "#### Chart - 5"
      ],
      "metadata": {
        "id": "bamQiAODYuh1"
      }
    },
    {
      "cell_type": "code",
      "source": [
        "# Age Certification Count\n",
        "plt.figure(figsize=(8, 5))\n",
        "sns.countplot(x=df['age_certification'], order=df['age_certification'].value_counts().index, palette='pastel')\n",
        "plt.title('Distribution of Age Certification')\n",
        "plt.xlabel('Age Certification')\n",
        "plt.ylabel('Count')\n",
        "plt.show()"
      ],
      "metadata": {
        "id": "TIJwrbroYuh3"
      },
      "execution_count": null,
      "outputs": []
    },
    {
      "cell_type": "markdown",
      "source": [
        "##### 1. Why did you pick the specific chart?"
      ],
      "metadata": {
        "id": "QHF8YVU7Yuh3"
      }
    },
    {
      "cell_type": "markdown",
      "source": [
        "A bar chart is effective for visualizing categorical data, making it ideal for showing the distribution of age certifications. It helps in understanding whether movies are properly rated or if there is a significant number of \"Not Rated\" movies. The simplicity of the bar chart makes it easy to interpret."
      ],
      "metadata": {
        "id": "dcxuIMRPYuh3"
      }
    },
    {
      "cell_type": "markdown",
      "source": [
        "##### 2. What is/are the insight(s) found from the chart?"
      ],
      "metadata": {
        "id": "GwzvFGzlYuh3"
      }
    },
    {
      "cell_type": "markdown",
      "source": [
        "\n",
        "*  The majority of the movies fall under a single age certification category (labeled as \"1\").\n",
        "*  A significant portion of movies is marked as \"Not Rated\", meaning they lack an official age certification.\n",
        "\n",
        "*  This suggests that many movies might not have been officially reviewed for content suitability.\n",
        "\n",
        "\n",
        "\n",
        "\n"
      ],
      "metadata": {
        "id": "uyqkiB8YYuh3"
      }
    },
    {
      "cell_type": "markdown",
      "source": [
        "##### 3. Will the gained insights help creating a positive business impact?\n",
        "Are there any insights that lead to negative growth? Justify with specific reason."
      ],
      "metadata": {
        "id": "qYpmQ266Yuh3"
      }
    },
    {
      "cell_type": "markdown",
      "source": [
        "Yes,Streaming platforms and content distributors can ensure proper classification to enhance user experience.\n",
        "\n",
        "* Parental control systems can be improved by reducing the number of \"Not Rated\" movies.\n",
        "* Better age certification tagging can help in personalized content recommendations.\n",
        "\n",
        "\n",
        "The high number of \"Not Rated\" movies could be a drawback.\n",
        "\n",
        "Regulatory Issues: Some platforms require age ratings for compliance—failure to provide them can lead to restrictions or removals.\n",
        "\n",
        "User Trust: Parents may avoid movies without ratings, leading to a loss of potential viewers.\n",
        "\n",
        "Ad Revenue Impact: Advertisers often prefer content with a clear rating, so unrated content might have lower monetization potential.\n",
        "\n",
        "Solution: Content providers should prioritize getting official age ratings to improve compliance, user experience, and business opportunities."
      ],
      "metadata": {
        "id": "_WtzZ_hCYuh4"
      }
    },
    {
      "cell_type": "markdown",
      "source": [
        "#### Chart - 6"
      ],
      "metadata": {
        "id": "OH-pJp9IphqM"
      }
    },
    {
      "cell_type": "code",
      "source": [
        "#  IMDb Score vs. Runtime\n",
        "plt.figure(figsize=(8, 5))\n",
        "sns.scatterplot(x=df['runtime'], y=df['imdb_score'], alpha=0.5, color='purple')\n",
        "plt.title('IMDb Score vs. Runtime')\n",
        "plt.xlabel('Runtime (minutes)')\n",
        "plt.ylabel('IMDb Score')\n",
        "plt.show()"
      ],
      "metadata": {
        "id": "kuRf4wtuphqN"
      },
      "execution_count": null,
      "outputs": []
    },
    {
      "cell_type": "markdown",
      "source": [
        "##### 1. Why did you pick the specific chart?"
      ],
      "metadata": {
        "id": "bbFf2-_FphqN"
      }
    },
    {
      "cell_type": "markdown",
      "source": [
        "A scatter plot is an effective way to visualize the relationship between IMDb scores and movie runtime.\n",
        "\n",
        "\n",
        "* It helps in identifying clusters, trends, and outliers in how movie duration affects audience ratings.\n",
        "*  The plot allows us to observe if there’s an optimal runtime that consistently gets higher ratings.\n",
        "\n",
        "\n",
        "\n"
      ],
      "metadata": {
        "id": "loh7H2nzphqN"
      }
    },
    {
      "cell_type": "markdown",
      "source": [
        "##### 2. What is/are the insight(s) found from the chart?"
      ],
      "metadata": {
        "id": "_ouA3fa0phqN"
      }
    },
    {
      "cell_type": "markdown",
      "source": [
        "\n",
        "*  Most movies have a runtime between 60 to 120 minutes, indicating this is the standard length.\n",
        "*  There is no clear correlation between runtime and IMDb score, meaning longer movies don't necessarily receive higher ratings.\n",
        "*  Movies shorter than 30 minutes have a broad range of scores, suggesting they might include short films or TV specials.\n",
        "*  Some outliers exist, where certain very short or very long movies receive extremely high or low ratings.\n",
        "\n",
        "\n"
      ],
      "metadata": {
        "id": "VECbqPI7phqN"
      }
    },
    {
      "cell_type": "markdown",
      "source": [
        "##### 3. Will the gained insights help creating a positive business impact?\n",
        "Are there any insights that lead to negative growth? Justify with specific reason."
      ],
      "metadata": {
        "id": "Seke61FWphqN"
      }
    },
    {
      "cell_type": "markdown",
      "source": [
        "Yes. These insights can help content creators and streaming platforms:\n",
        "\n",
        "*  Optimize content length based on viewer preferences—since most movies are within 60-120 minutes, investing in this range might ensure better audience retention.\n",
        "*  Analyze outliers to understand why some long or short movies perform exceptionally well.\n",
        "*  Target specific genres—for example, documentaries or short films might perform well at different runtimes than mainstream movies.\n",
        "\n",
        "Are there any insights that lead to negative growth? Justify with specific reason.\n",
        "\n",
        "\n",
        "Risk of producing excessively long movies:\n",
        "------\n",
        "\n",
        "\n",
        "* If a platform over-invests in long-duration content, it may not align with audience preferences, leading to lower engagement.\n",
        "\n",
        "Solution: Focus on engagement data alongside ratings to determine the ideal runtime for each genre.\n",
        "\n",
        "Ignoring short-format content:\n",
        "---------\n",
        "* Short movies (under 40 minutes) have diverse ratings, meaning some perform very well.\n",
        "\n",
        "Solution: Streaming platforms should not overlook short films as they may attract a niche but dedicated audience.\n",
        "\n",
        "\n",
        "\n",
        "\n",
        "\n",
        "\n",
        "\n",
        "\n",
        "\n",
        "\n",
        "\n"
      ],
      "metadata": {
        "id": "DW4_bGpfphqN"
      }
    },
    {
      "cell_type": "markdown",
      "source": [
        "#### Chart - 7"
      ],
      "metadata": {
        "id": "PIIx-8_IphqN"
      }
    },
    {
      "cell_type": "code",
      "source": [
        "#Popularity vs. TMDb Score (Scatter Plot)\n",
        "plt.figure(figsize=(10, 6))\n",
        "sns.scatterplot(x=df['tmdb_score'], y=df['tmdb_popularity'], alpha=0.7, color=\"blue\")\n",
        "plt.title('Popularity vs. TMDb Score')\n",
        "plt.xlabel('TMDb Score')\n",
        "plt.ylabel('TMDb Popularity')\n",
        "plt.show()"
      ],
      "metadata": {
        "id": "lqAIGUfyphqO"
      },
      "execution_count": null,
      "outputs": []
    },
    {
      "cell_type": "markdown",
      "source": [
        "##### 1. Why did you pick the specific chart?"
      ],
      "metadata": {
        "id": "t27r6nlMphqO"
      }
    },
    {
      "cell_type": "markdown",
      "source": [
        "A scatter plot is ideal for showing the relationship between TMDb scores and popularity. It helps in identifying trends, clusters, and outliers in the data.\n",
        "The plot makes it easy to observe if higher ratings correlate with increased popularity."
      ],
      "metadata": {
        "id": "iv6ro40sphqO"
      }
    },
    {
      "cell_type": "markdown",
      "source": [
        "##### 2. What is/are the insight(s) found from the chart?"
      ],
      "metadata": {
        "id": "r2jJGEOYphqO"
      }
    },
    {
      "cell_type": "markdown",
      "source": [
        "\n",
        "*  Most movies have a TMDb score between 5 and 8 and show varying levels of popularity.\n",
        "*  There are a few highly popular movies (outliers) with moderate scores (around 6), suggesting that popularity isn't solely dependent on ratings.\n",
        "*  Some movies with high ratings (above 8) are not necessarily the most popular, indicating that other factors like marketing, star power, or genre trends might influence popularity.\n",
        "\n",
        "\n"
      ],
      "metadata": {
        "id": "Po6ZPi4hphqO"
      }
    },
    {
      "cell_type": "markdown",
      "source": [
        "##### 3. Will the gained insights help creating a positive business impact?\n",
        "Are there any insights that lead to negative growth? Justify with specific reason."
      ],
      "metadata": {
        "id": "b0JNsNcRphqO"
      }
    },
    {
      "cell_type": "markdown",
      "source": [
        "Yes,these insights can help streaming platforms and content creators:\n",
        "\n",
        "*  Target promotion efforts on moderately rated but highly popular movies.\n",
        "*  Identify movies with high ratings but low popularity and boost their visibility through better recommendations or marketing campaigns.\n",
        "*  Understand viewer preferences—popularity may not always align with high ratings, so focusing on user engagement metrics can be more valuable.\n",
        "\n",
        "Are there any insights that lead to negative growth? Justify with a specific reason.\n",
        "\n",
        "\n",
        "Potential misalignment in content strategy:\n",
        "------------\n",
        "\n",
        "\n",
        "*  If a platform only promotes high-rated movies, it may miss out on movies that are popular but not critically acclaimed.\n",
        "\n",
        "\n",
        "Solution: Implement a balanced recommendation strategy that considers both popularity and rating.\n",
        "\n",
        "Overreliance on ratings for decision-making:\n",
        "----------\n",
        "* Investing in only high-rated but less popular movies might not yield high user engagement or revenue.\n",
        "\n",
        "Solution: Focus on trending content and audience preferences, not just critic scores\n",
        "\n",
        "\n",
        "\n",
        "\n",
        "\n"
      ],
      "metadata": {
        "id": "xvSq8iUTphqO"
      }
    },
    {
      "cell_type": "markdown",
      "source": [
        "#### Chart - 8"
      ],
      "metadata": {
        "id": "BZR9WyysphqO"
      }
    },
    {
      "cell_type": "code",
      "source": [
        "#  Popularity vs. IMDb Score (Scatter Plot)\n",
        "plt.figure(figsize=(10, 6))\n",
        "sns.scatterplot(x=df['imdb_score'], y=df['tmdb_popularity'], alpha=0.6)\n",
        "plt.title(\"Popularity vs. IMDb Score\")\n",
        "plt.xlabel(\"IMDb Score\")\n",
        "plt.ylabel(\"TMDb Popularity\")\n",
        "plt.show()"
      ],
      "metadata": {
        "id": "TdPTWpAVphqO"
      },
      "execution_count": null,
      "outputs": []
    },
    {
      "cell_type": "markdown",
      "source": [
        "##### 1. Why did you pick the specific chart?"
      ],
      "metadata": {
        "id": "jj7wYXLtphqO"
      }
    },
    {
      "cell_type": "markdown",
      "source": [
        "\n",
        "\n",
        "\n",
        "* to show the relationship between IMDb scores and TMDb popularity.\n",
        "* It helps in identifying trends, outliers, and correlations between movie ratings and their popularity.\n",
        "*  This visualization is useful to analyze if higher-rated movies tend to be more popular or if popularity is independent of rating.\n",
        "\n",
        "\n",
        "\n",
        "\n",
        "\n",
        "\n"
      ],
      "metadata": {
        "id": "Ob8u6rCTphqO"
      }
    },
    {
      "cell_type": "markdown",
      "source": [
        "##### 2. What is/are the insight(s) found from the chart?"
      ],
      "metadata": {
        "id": "eZrbJ2SmphqO"
      }
    },
    {
      "cell_type": "markdown",
      "source": [
        "\n",
        "*  Most movies have low to moderate popularity, regardless of IMDb scores.\n",
        "*  There are a few highly popular movies, but their ratings vary across the spectrum.\n",
        "*  Some highly-rated movies (8-10) have lower popularity, suggesting that quality doesn't always translate to popularity.\n",
        "\n",
        "* Some highly-rated movies (8-10) have lower popularity, suggesting that quality doesn't always translate to popularity.\n"
      ],
      "metadata": {
        "id": "mZtgC_hjphqO"
      }
    },
    {
      "cell_type": "markdown",
      "source": [
        "##### 3. Will the gained insights help creating a positive business impact?\n",
        "Are there any insights that lead to negative growth? Justify with specific reason."
      ],
      "metadata": {
        "id": "rFu4xreNphqO"
      }
    },
    {
      "cell_type": "markdown",
      "source": [
        "Yes, streaming platforms & production houses can use this to refine their content strategy.\n",
        "*  Marketing teams can identify which factors boost popularity, even for movies with mid-level IMDb scores.\n",
        "*  This can help in targeted promotions—for instance, boosting underrated high-quality films or capitalizing on popular but average-rated films.\n",
        "\n",
        "\n",
        "If production houses rely only on IMDb scores to predict success, they may ignore films with lower ratings but strong popularity potential.\n",
        "\n",
        "Some highly-rated movies remain unnoticed due to poor marketing, leading to lost revenue opportunities.\n",
        "\n",
        "Solution: Invest in data-driven marketing strategies to push high-quality but less popular films toward wider audiences.\n",
        "\n",
        "\n",
        "\n"
      ],
      "metadata": {
        "id": "ey_0qi68phqO"
      }
    },
    {
      "cell_type": "markdown",
      "source": [
        "#### Chart - 9"
      ],
      "metadata": {
        "id": "YJ55k-q6phqO"
      }
    },
    {
      "cell_type": "code",
      "source": [
        "# Number of Movies/Shows Released per Year (Line Chart)\n",
        "\n",
        "df['release_year'] = pd.to_datetime(df['release_year']).dt.year\n",
        "release_counts = df.groupby('release_year').size()\n",
        "plt.figure(figsize=(12, 6))\n",
        "plt.plot(release_counts.index, release_counts.values, marker='o', linestyle='-')\n",
        "plt.title(\"Number of Movies/Shows Released Per Year\")\n",
        "plt.xlabel(\"Release Year\")\n",
        "plt.ylabel(\"Count\")\n",
        "plt.grid(True)\n",
        "plt.show()"
      ],
      "metadata": {
        "id": "B2aS4O1ophqO"
      },
      "execution_count": null,
      "outputs": []
    },
    {
      "cell_type": "markdown",
      "source": [
        "##### 1. Why did you pick the specific chart?"
      ],
      "metadata": {
        "id": "gCFgpxoyphqP"
      }
    },
    {
      "cell_type": "markdown",
      "source": [
        "Answer Here."
      ],
      "metadata": {
        "id": "TVxDimi2phqP"
      }
    },
    {
      "cell_type": "markdown",
      "source": [
        "##### 2. What is/are the insight(s) found from the chart?"
      ],
      "metadata": {
        "id": "OVtJsKN_phqQ"
      }
    },
    {
      "cell_type": "markdown",
      "source": [
        "Answer Here"
      ],
      "metadata": {
        "id": "ngGi97qjphqQ"
      }
    },
    {
      "cell_type": "markdown",
      "source": [
        "##### 3. Will the gained insights help creating a positive business impact?\n",
        "Are there any insights that lead to negative growth? Justify with specific reason."
      ],
      "metadata": {
        "id": "lssrdh5qphqQ"
      }
    },
    {
      "cell_type": "markdown",
      "source": [
        "Answer Here"
      ],
      "metadata": {
        "id": "tBpY5ekJphqQ"
      }
    },
    {
      "cell_type": "markdown",
      "source": [
        "#### Chart - 10"
      ],
      "metadata": {
        "id": "U2RJ9gkRphqQ"
      }
    },
    {
      "cell_type": "code",
      "source": [
        "# Title vs. Age Certifications (Bar Plot - Top 20 for readability)\n",
        "top_titles = df['title'].value_counts().nlargest(20).index\n",
        "df_filtered = df[df['title'].isin(top_titles)]\n",
        "plt.figure(figsize=(12, 6))\n",
        "sns.countplot(y=df_filtered['title'], hue=df_filtered['age_certification'], palette=\"Set2\")\n",
        "plt.title('Top 20 Titles vs. Age Certifications')\n",
        "plt.xlabel('Count')\n",
        "plt.ylabel('Title')\n",
        "plt.legend(title='Age Certification')\n",
        "plt.show()"
      ],
      "metadata": {
        "id": "GM7a4YP4phqQ"
      },
      "execution_count": null,
      "outputs": []
    },
    {
      "cell_type": "markdown",
      "source": [
        "##### 1. Why did you pick the specific chart?"
      ],
      "metadata": {
        "id": "1M8mcRywphqQ"
      }
    },
    {
      "cell_type": "markdown",
      "source": [
        "\n",
        "\n",
        "* A horizontal bar chart was chosen because it efficiently represents the top 20 titles and their age certifications, making comparisons clear.\n",
        "* It allows easy visualization of the distribution of certified vs. not-rated content.\n",
        "*  The horizontal layout ensures title names are readable, avoiding clutter in a vertical chart.\n",
        "\n"
      ],
      "metadata": {
        "id": "8agQvks0phqQ"
      }
    },
    {
      "cell_type": "markdown",
      "source": [
        "##### 2. What is/are the insight(s) found from the chart?"
      ],
      "metadata": {
        "id": "tgIPom80phqQ"
      }
    },
    {
      "cell_type": "markdown",
      "source": [
        "\n",
        "*  Most of the top 20 titles have an age certification.\n",
        "*  Some titles are \"Not Rated,\" meaning they lack an official age certification, which could be due to historical reasons or missing metadata.\n",
        "*  Classic movies and well-known titles (e.g., Titanic, Pearl Harbor, Independence Day) are mostly rated, indicating that major films typically undergo certification.\n",
        "\n",
        "\n"
      ],
      "metadata": {
        "id": "Qp13pnNzphqQ"
      }
    },
    {
      "cell_type": "markdown",
      "source": [
        "##### 3. Will the gained insights help creating a positive business impact?\n",
        "Are there any insights that lead to negative growth? Justify with specific reason."
      ],
      "metadata": {
        "id": "JMzcOPDDphqR"
      }
    },
    {
      "cell_type": "markdown",
      "source": [
        "Yes,these insights can help streaming platforms ensure compliance with regional content regulations.\n",
        "* Understanding which movies lack certification allows businesses to update metadata, improving user experience and parental controls.\n",
        "* Better categorization based on certification can enhance recommendation systems, boosting engagement and watch time.\n",
        "\n",
        "\n",
        "Are there any insights that lead to negative growth? Justify with a specific reason.\n",
        "\n",
        "Unrated content could lead to regulatory and trust issues:\n",
        "----------\n",
        "* If popular titles lack certification, users may hesitate to watch them, especially in regions with strict content guidelines.\n",
        "\n",
        "Solution: Platforms should work to get official age ratings for unrated content to improve transparency.\n",
        "\n",
        "Potential metadata inconsistency:\n",
        "-------\n",
        "* If some certified movies are incorrectly labeled as \"Not Rated,\" it may indicate data quality issues in the platform's database.\n",
        "\n",
        "Solution: Regular data validation and metadata enrichment should be performed.\n",
        "\n",
        "\n",
        "\n",
        "\n"
      ],
      "metadata": {
        "id": "R4Ka1PC2phqR"
      }
    },
    {
      "cell_type": "markdown",
      "source": [
        "#### Chart - 11"
      ],
      "metadata": {
        "id": "x-EpHcCOp1ci"
      }
    },
    {
      "cell_type": "code",
      "source": [
        "#  Is Movie vs. Age Certifications (Stacked Bar Plot)\n",
        "plt.figure(figsize=(8, 5))\n",
        "sns.histplot(data=df, x=\"is_movie\", hue=\"age_certification\", multiple=\"stack\", shrink=0.8, palette=\"coolwarm\")\n",
        "plt.title(\"Movie vs. Age Certification\")\n",
        "plt.xlabel(\"Is Movie (1 = Movie, 0 = TV Show)\")\n",
        "plt.ylabel(\"Count\")\n",
        "plt.show()"
      ],
      "metadata": {
        "id": "mAQTIvtqp1cj"
      },
      "execution_count": null,
      "outputs": []
    },
    {
      "cell_type": "markdown",
      "source": [
        "##### 1. Why did you pick the specific chart?"
      ],
      "metadata": {
        "id": "X_VqEhTip1ck"
      }
    },
    {
      "cell_type": "markdown",
      "source": [
        "\n",
        "* A bar chart was chosen because it clearly represents the comparison between movies and TV shows based on their age certification.\n",
        "* It effectively highlights the disparity between certified and non-certified content.\n",
        "*  This chart helps understand content rating trends, which is crucial for streaming platforms and regulatory compliance.\n",
        "\n",
        "\n"
      ],
      "metadata": {
        "id": "-vsMzt_np1ck"
      }
    },
    {
      "cell_type": "markdown",
      "source": [
        "##### 2. What is/are the insight(s) found from the chart?"
      ],
      "metadata": {
        "id": "8zGJKyg5p1ck"
      }
    },
    {
      "cell_type": "markdown",
      "source": [
        "\n",
        "* A huge number of movies have age certifications, while TV shows are significantly lower in count.\n",
        "*  A small proportion of content is labeled as \"Not Rated\", which might indicate missing metadata or a lack of formal certification.\n",
        "*  The dominance of movies over TV shows in terms of certification suggests that regulatory bodies focus more on movies.\n",
        "\n",
        "\n"
      ],
      "metadata": {
        "id": "ZYdMsrqVp1ck"
      }
    },
    {
      "cell_type": "markdown",
      "source": [
        "##### 3. Will the gained insights help creating a positive business impact?\n"
      ],
      "metadata": {
        "id": "PVzmfK_Ep1ck"
      }
    },
    {
      "cell_type": "markdown",
      "source": [
        "\n",
        "\n",
        "* Yes,these insights can help content platforms improve classification and parental control features.\n",
        "* Platforms can enhance user experience by ensuring that proper age certifications are available for all content.\n",
        "* Regulatory compliance can be improved, reducing legal risks related to unclassified content.\n",
        "* Streaming services can optimize their recommendation algorithms by filtering content based on certification.\n",
        "\n",
        "\n",
        "Are there any insights that lead to negative growth?\n",
        "\n",
        "Justify with a specific reason.\n",
        "\n",
        "\n",
        "High number of \"Not Rated\" content:\n",
        "-------\n",
        "* If a significant portion of content lacks an age rating, it can lead to trust issues for parents and viewers.\n",
        "\n",
        "Solution: Platforms should ensure age certification is properly assigned to all content.\n",
        "\n",
        "TV Shows Lack Proper Certification:\n",
        "----------\n",
        "* The low count of TV shows with certification could indicate less regulatory oversight, which may affect audience trust and compliance in certain regions.\n",
        "\n",
        "Solution: Streaming platforms should work with rating agencies to certify more TV shows for better content transparency.\n",
        "\n"
      ],
      "metadata": {
        "id": "druuKYZpp1ck"
      }
    },
    {
      "cell_type": "markdown",
      "source": [
        "#### Chart - 12"
      ],
      "metadata": {
        "id": "n3dbpmDWp1ck"
      }
    },
    {
      "cell_type": "code",
      "source": [
        "# Release Year vs. Type (Count Plot)\n",
        "plt.figure(figsize=(12, 6))\n",
        "sns.countplot(x=df['release_year'].dt.year, hue=df['type'], palette=\"husl\")\n",
        "plt.xticks(rotation=90)\n",
        "plt.title('Number of Movies/Shows Released per Year')\n",
        "plt.xlabel('Release Year')\n",
        "plt.ylabel('Count')\n",
        "plt.legend(title=\"Type\", labels=[\"Movie\", \"TV Show\"])\n",
        "plt.show()"
      ],
      "metadata": {
        "id": "bwevp1tKp1ck"
      },
      "execution_count": null,
      "outputs": []
    },
    {
      "cell_type": "markdown",
      "source": [
        "##### 1. Why did you pick the specific chart?"
      ],
      "metadata": {
        "id": "ylSl6qgtp1ck"
      }
    },
    {
      "cell_type": "markdown",
      "source": [
        "\n",
        "*  A stacked bar chart was chosen to analyze the trend of movie and TV show releases over time.\n",
        "*  It effectively displays growth patterns in content production, highlighting the comparison between movies and TV shows.\n",
        "*  The yearly trend provides insights into industry shifts, content demand, and production strategies.\n",
        "\n",
        "\n"
      ],
      "metadata": {
        "id": "m2xqNkiQp1ck"
      }
    },
    {
      "cell_type": "markdown",
      "source": [
        "##### 2. What is/are the insight(s) found from the chart?"
      ],
      "metadata": {
        "id": "ZWILFDl5p1ck"
      }
    },
    {
      "cell_type": "markdown",
      "source": [
        "\n",
        "* Significant increase in content production in recent years, especially movies an In TV shows have also increased, but their growth is much slower than movies.\n",
        "*  A sudden spike in content after the 2000s, with exponential growth post-2010.\n",
        "*  The highest content production year appears to be the most recent one, showing continued industry expansion.\n",
        "*  Older decades (pre-1950s) have minimal content releases, indicating that data collection may be limited for historical records.\n",
        "\n"
      ],
      "metadata": {
        "id": "x-lUsV2mp1ck"
      }
    },
    {
      "cell_type": "markdown",
      "source": [
        "##### 3. Will the gained insights help creating a positive business impact?\n"
      ],
      "metadata": {
        "id": "M7G43BXep1ck"
      }
    },
    {
      "cell_type": "markdown",
      "source": [
        "\n",
        "*  Yes,these insights help streaming platforms, content creators, and investors make data-driven decisions.\n",
        "* Companies can focus on high-growth years and trends to optimize content strategy.\n",
        "Streaming services can acquire more recent content, as it aligns with the increased production rate.\n",
        "*  Marketing strategies can be tailored based on production trends, ensuring efficient content distribution.\n",
        "\n",
        "\n",
        "Are there any insights that lead to negative growth?\n",
        "Justify with specific reason.\n",
        "\n",
        "\n",
        "Market Saturation Risk:\n",
        "-------------\n",
        "*  The rapid rise in movie production may lead to overcrowding, making it harder for individual films to gain visibility.\n",
        "\n",
        "Solution: Platforms should focus on personalized recommendations and quality over quantity.\n",
        "\n",
        "TV Show Underrepresentation:\n",
        "------------\n",
        "*  Despite increasing content consumption, TV show production remains significantly lower.\n",
        "*  Streaming services relying on long-form content may struggle to retain viewers.\n",
        "\n",
        "Solution: Invest in high-quality TV shows to maintain engagement and subscription retention.\n",
        "\n",
        "\n",
        "\n",
        "\n",
        "\n",
        "\n"
      ],
      "metadata": {
        "id": "5wwDJXsLp1cl"
      }
    },
    {
      "cell_type": "markdown",
      "source": [
        "#### Chart - 13"
      ],
      "metadata": {
        "id": "Ag9LCva-p1cl"
      }
    },
    {
      "cell_type": "code",
      "source": [
        "# Top 15  genres vs type\n",
        "plt.figure(figsize=(12, 6))\n",
        "sns.countplot(data=df, y='genres', hue='type', palette=\"coolwarm\", order=df['genres'].value_counts().index[:15])\n",
        "plt.title('Top 15 Genres vs. Type')\n",
        "plt.xlabel('Count')\n",
        "plt.ylabel('Genres')\n",
        "plt.legend(title=\"Type\")\n",
        "plt.show()\n"
      ],
      "metadata": {
        "id": "EUfxeq9-p1cl"
      },
      "execution_count": null,
      "outputs": []
    },
    {
      "cell_type": "markdown",
      "source": [
        "##### 1. Why did you pick the specific chart?"
      ],
      "metadata": {
        "id": "E6MkPsBcp1cl"
      }
    },
    {
      "cell_type": "markdown",
      "source": [
        "\n",
        "*  A horizontal bar chart is chosen to display the distribution of the top 15 genres, categorized by type (Movie or Show).\n",
        "*   It effectively compares the frequency of different genres, making it easier to see which genres dominate the dataset.\n",
        "*   The use of color distinction (Movies vs. Shows) provides an additional layer of insight into content type preferences.\n",
        "\n"
      ],
      "metadata": {
        "id": "V22bRsFWp1cl"
      }
    },
    {
      "cell_type": "markdown",
      "source": [
        "##### 2. What is/are the insight(s) found from the chart?"
      ],
      "metadata": {
        "id": "2cELzS2fp1cl"
      }
    },
    {
      "cell_type": "markdown",
      "source": [
        "\n",
        "*  Drama is the most popular genre, followed by Comedy and Horror.\n",
        "*  Movies dominate across all genres compared to Shows.\n",
        "*  Genre combinations like 'drama & romance' and 'thriller & crime' are relatively popular, suggesting audience interest in blended storytelling.\n",
        "*  Documentaries have a strong presence, indicating a significant viewership for non-fiction content.\n",
        "\n"
      ],
      "metadata": {
        "id": "ozQPc2_Ip1cl"
      }
    },
    {
      "cell_type": "markdown",
      "source": [
        "##### 3. Will the gained insights help creating a positive business impact?\n",
        "\n",
        "*   Yes,these insights help streaming platforms, content creators, and distributors understand audience preferences.\n",
        "*  Businesses can invest more in drama and comedy content to maximize engagement and platforms can optimize recommendations by targeting users based on their preferred genres.\n",
        "*  Balanced content strategies can be developed by analyzing the demand for single vs. multi-genre content.\n",
        "\n",
        "\n",
        "\n",
        "Are there any insights that lead to negative growth?\n",
        "Justify with specific reason.\n",
        "\n",
        "\n",
        "Potential Risk: Over-Saturation of Drama Content\n",
        "-----------\n",
        "\n",
        "* Since drama is highly dominant, excessive production of similar content might lead to viewer fatigue.\n",
        "\n",
        "* If other genres (like sci-fi, fantasy, or niche categories) are neglected, platforms may lose diverse audience segments.\n",
        "\n",
        "Solution: Maintain variety by investing in emerging genres and niche markets.\n",
        "\n",
        "Underrepresentation of TV Shows:\n",
        "----------------\n",
        "*  The chart suggests that movies heavily outnumber shows across all genres.\n",
        "\n",
        "*  Streaming services focusing on long-form content may miss out on user engagement and subscription retention.\n",
        "\n",
        "Solution: Increase investment in high-quality, long-running TV shows to maintain a steady user base.\n",
        "\n"
      ],
      "metadata": {
        "id": "3MPXvC8up1cl"
      }
    },
    {
      "cell_type": "markdown",
      "source": [
        "#### Chart - 14 - Correlation Heatmap"
      ],
      "metadata": {
        "id": "NC_X3p0fY2L0"
      }
    },
    {
      "cell_type": "code",
      "source": [
        "# Correlation Heatmap visualization code\n",
        "\n",
        "plt.figure(figsize=(10, 6))\n",
        "#corr_matrix = df.corr()\n",
        "numeric_df = df.select_dtypes(include=np.number)\n",
        "sns.heatmap(numeric_df.corr(), annot=True, cmap=\"coolwarm\", linewidths=0.5)\n",
        "plt.title(\"Correlation Heatmap\")\n",
        "plt.show()\n"
      ],
      "metadata": {
        "id": "xyC9zolEZNRQ"
      },
      "execution_count": null,
      "outputs": []
    },
    {
      "cell_type": "markdown",
      "source": [
        "##### 1. Why did you pick the specific chart?"
      ],
      "metadata": {
        "id": "UV0SzAkaZNRQ"
      }
    },
    {
      "cell_type": "markdown",
      "source": [
        "\n",
        "* A correlation heatmap is chosen to visually explore the relationships between numerical variables in the dataset.\n",
        "* It provides an easy way to detect strong or weak correlations between features, helping in feature selection for predictive modeling.\n",
        "* The color gradient allows quick identification of positive (red) and negative (blue) correlations, making data interpretation intuitive."
      ],
      "metadata": {
        "id": "DVPuT8LYZNRQ"
      }
    },
    {
      "cell_type": "markdown",
      "source": [
        "##### 2. What is/are the insight(s) found from the chart?"
      ],
      "metadata": {
        "id": "YPEH6qLeZNRQ"
      }
    },
    {
      "cell_type": "markdown",
      "source": [
        "\n",
        "*  IMDb score and TMDb score have a strong positive correlation (~0.6), indicating that higher-rated movies on IMDb tend to have higher TMDb scores.\n",
        "* IMDb votes and TMDb popularity show a moderate correlation (~0.23), meaning more votes on IMDb could relate to higher popularity on TMDb.\n",
        "* Content age has a weak or negative correlation with most variables, suggesting that the age of the content doesn't significantly impact ratings or popularity.\n",
        "* Runtime has a low correlation with other factors, implying that the length of a movie/show does not strongly influence its popularity or rating.\n",
        "\n"
      ],
      "metadata": {
        "id": "bfSqtnDqZNRR"
      }
    },
    {
      "cell_type": "markdown",
      "source": [
        "#### Chart - 15 - Pair Plot"
      ],
      "metadata": {
        "id": "q29F0dvdveiT"
      }
    },
    {
      "cell_type": "code",
      "source": [
        "# Pair Plot visualization code\n",
        "\n",
        "# Set plot style\n",
        "sns.set(style=\"whitegrid\")\n",
        "\n",
        "# Pair Plot: Name, Popularity, Type, Title, and Genres\n",
        "subset = df[['name', 'tmdb_popularity', 'type', 'title', 'genres']].dropna()\n",
        "sns.pairplot(subset, hue='type', diag_kind='kde', palette=\"Dark2\")\n",
        "plt.show()"
      ],
      "metadata": {
        "id": "o58-TEIhveiU"
      },
      "execution_count": null,
      "outputs": []
    },
    {
      "cell_type": "markdown",
      "source": [
        "##### 1. Why did you pick the specific chart?"
      ],
      "metadata": {
        "id": "EXh0U9oCveiU"
      }
    },
    {
      "cell_type": "markdown",
      "source": [
        "\n",
        "\n",
        "*   A density plot (KDE plot) is useful for visualizing the distribution of numerical data and identifying patterns.\n",
        "* It helps understand how the values of TMDb popularity are spread across different movies or TV shows.\n",
        "* The chart provides a smoother representation of data density compared to histograms, making it easier to spot skewness or anomalies."
      ],
      "metadata": {
        "id": "eMmPjTByveiU"
      }
    },
    {
      "cell_type": "markdown",
      "source": [
        "##### 2. What is/are the insight(s) found from the chart?"
      ],
      "metadata": {
        "id": "22aHeOlLveiV"
      }
    },
    {
      "cell_type": "markdown",
      "source": [
        "The TMDb popularity values are highly skewed to the left, meaning most movies/shows have low popularity scores.\n",
        "A few outliers exist with extremely high popularity (beyond 1000), but they are rare.\n",
        "The majority of content has low popularity, suggesting that only a small percentage of movies/shows achieve high engagement.\n",
        "If this trend holds for both movies and TV shows, it might indicate that a handful of blockbuster releases dominate viewership."
      ],
      "metadata": {
        "id": "uPQ8RGwHveiV"
      }
    },
    {
      "cell_type": "markdown",
      "source": [
        "#### Chart - 16"
      ],
      "metadata": {
        "id": "mdORV3aiTZtT"
      }
    },
    {
      "cell_type": "code",
      "source": [
        "# Distribution of Production Countries\n",
        "plt.figure(figsize=(8, 8))\n",
        "top_countries = df['production_countries'].value_counts().nlargest(8)\n",
        "plt.pie(top_countries, labels=top_countries.index, autopct='%1.1f%%', colors=sns.color_palette('pastel'))\n",
        "plt.title('Production Countries Distribution')\n",
        "plt.show()"
      ],
      "metadata": {
        "id": "i7Pqo_yFTXxn"
      },
      "execution_count": null,
      "outputs": []
    },
    {
      "cell_type": "markdown",
      "source": [
        "1. Why did you pick the specific chart?"
      ],
      "metadata": {
        "id": "-tNPEYC5TmYl"
      }
    },
    {
      "cell_type": "markdown",
      "source": [
        "Since we are analyzing the distribution of production countries, a pie chart clearly shows the dominant regions contributing to movie/show production.\n",
        "\n",
        "It helps in quickly identifying the leading country and how others compare in terms of production share."
      ],
      "metadata": {
        "id": "6NW9d499Tmi-"
      }
    },
    {
      "cell_type": "markdown",
      "source": [
        "2. What is/are the insight(s) found from the chart?"
      ],
      "metadata": {
        "id": "S_7M7gGnTmuP"
      }
    },
    {
      "cell_type": "markdown",
      "source": [
        "\n",
        "*   The United States (US) dominates with 70.4% of the total productions.\n",
        "*   India (IN) follows with 11.4%, indicating a strong film industry presence.\n",
        "*   Other countries like the UK (GB), Canada (CA), Japan (JP), Australia (AU), and France (FR) have a much smaller share.\n",
        "*   There is a small percentage of data entries with missing country information ([]), which could indicate either missing or multi-country productions.\n",
        "*   The chart highlights the centralization of movie/TV production in a few dominant regions, with the US leading significantly.\n",
        "\n",
        "\n"
      ],
      "metadata": {
        "id": "BXc-CDX3Tm_8"
      }
    },
    {
      "cell_type": "markdown",
      "source": [
        "## **5. Solution to Business Objective**"
      ],
      "metadata": {
        "id": "JcMwzZxoAimU"
      }
    },
    {
      "cell_type": "markdown",
      "source": [
        "#### What do you suggest the client to achieve Business Objective ?\n",
        "Explain Briefly."
      ],
      "metadata": {
        "id": "8G2x9gOozGDZ"
      }
    },
    {
      "cell_type": "markdown",
      "source": [
        "Based on the insights gained from all visualizations, the client can take the following data-driven actions to achieve their business objective:\n",
        "\n",
        "Optimize Movie Selection for Maximum Engagement\n",
        "---------\n",
        "*  The IMDb Score vs. TMDb Score scatter plot shows a strong correlation, suggesting that both platforms' ratings align.\n",
        "*  The client can prioritize movies with higher IMDb and TMDb scores for better user satisfaction.\n",
        "\n",
        "Leverage Popularity Insights for Better Content Strategy\n",
        "--------\n",
        "*  The IMDb Score vs. TMDb Popularity scatter plot indicates that some moderate-rated movies (IMDb 6-7) gain high popularity, while highly rated movies (8+) might have lower popularity.\n",
        "*  Instead of focusing only on high-rated content, invest in marketing and promotions for mid-rated but highly engaging content.\n",
        "\n",
        "Understand Viewer Preferences Through Distribution Analysis\n",
        "----------\n",
        "*  The IMDb Score Distribution histogram follows a normal distribution, with most movies clustering around a score of 5-7.\n",
        "*  Clients should focus on curating a balanced mix of mainstream and niche content, targeting the largest audience segment (scores 5-7) while promoting standout high-rated movies.\n",
        "\n",
        "Marketing Strategy Based on Trends\n",
        "-------------\n",
        "* Some movies have exceptional popularity despite moderate ratings due to external factors (franchise, actor, marketing).\n",
        "*  Clients should invest in promotional campaigns, social media engagement, and strategic partnerships to enhance visibility for potential hit movies.\n",
        "\n",
        "\n"
      ],
      "metadata": {
        "id": "pASKb0qOza21"
      }
    },
    {
      "cell_type": "markdown",
      "source": [
        "# **Conclusion**"
      ],
      "metadata": {
        "id": "gCX9965dhzqZ"
      }
    },
    {
      "cell_type": "markdown",
      "source": [
        "The analysis of IMDb and TMDb ratings, popularity, and score distributions provides valuable insights for optimizing content strategy. Key takeaways include:\n",
        "\n",
        "*  Strong correlation between IMDb and TMDb scores suggests reliable quality indicators for movie selection.\n",
        "*  Popularity does not always align with high ratings, emphasizing the importance of marketing and audience engagement.\n",
        "*  Most movies cluster around IMDb scores of 5-7, indicating the need to balance high-rated content with widely appealing mid-rated films.\n",
        "\n",
        "\n",
        "By viewing these insights, the client can enhance content acquisition, improve more recommendation algorithms, and implement targeted market strategies.\n",
        "\n",
        "A data-driven approach will maximize user engagement, boost retention, and drive business growth.\n",
        "\n",
        "\n",
        "\n",
        "\n",
        "\n"
      ],
      "metadata": {
        "id": "Fjb1IsQkh3yE"
      }
    },
    {
      "cell_type": "markdown",
      "source": [
        "### ***Hurrah! You have successfully completed your EDA Capstone Project !!!***"
      ],
      "metadata": {
        "id": "gIfDvo9L0UH2"
      }
    },
    {
      "cell_type": "code",
      "source": [],
      "metadata": {
        "id": "dYX880etpL0x"
      },
      "execution_count": null,
      "outputs": []
    },
    {
      "cell_type": "code",
      "source": [],
      "metadata": {
        "id": "-6Vl263upPVI"
      },
      "execution_count": null,
      "outputs": []
    }
  ]
}